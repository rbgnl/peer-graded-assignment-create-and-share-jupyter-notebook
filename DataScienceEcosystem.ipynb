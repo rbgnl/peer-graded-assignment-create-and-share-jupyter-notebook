{
 "cells": [
  {
   "cell_type": "markdown",
   "id": "1d7293b4-1324-4d91-be46-b4962a783646",
   "metadata": {},
   "source": [
    "# Data Science Tools and Ecosystem"
   ]
  },
  {
   "cell_type": "markdown",
   "id": "a8051b58-7944-4768-b1f1-a121b5fbed2f",
   "metadata": {},
   "source": [
    "In this notebook, data science tools and ecosystems we learnt about are summarized."
   ]
  },
  {
   "cell_type": "markdown",
   "id": "598dbc4e-90ca-465b-91a6-6ec03c777a77",
   "metadata": {},
   "source": [
    "**Objectives:**\n",
    "- What are the popular languages used by data scientists\n",
    "- How to create tables in Python\n",
    "- How to create ordered and unordered lists\n",
    "- How to write code executing arithmetic operations such as addition, multiplication, division etc.\n",
    "- How to create bold text\n"
   ]
  },
  {
   "cell_type": "markdown",
   "id": "27801702-3941-4c02-8cd6-f8d1ea0b8bcb",
   "metadata": {},
   "source": [
    "Some of the popular languages used by data scientists are:"
   ]
  },
  {
   "cell_type": "markdown",
   "id": "ca965ca1-a1c0-40be-861e-d560e4d78dc8",
   "metadata": {},
   "source": [
    "1. Python\n",
    "2. R\n",
    "3. SQL\n",
    "4. Javascript"
   ]
  },
  {
   "cell_type": "markdown",
   "id": "31869b18-bbd9-4c58-8c3d-cc416700244a",
   "metadata": {},
   "source": [
    "Some of the libraries commonly used by data scientists include:\n",
    "1. NumPy\n",
    "2. Pandas\n",
    "3. Plotly\n",
    "4. Seaborn"
   ]
  },
  {
   "cell_type": "markdown",
   "id": "6d18758f-a2ff-47c0-9c7e-3316b2f0fdc3",
   "metadata": {
    "tags": []
   },
   "source": [
    "|Data Science Tools|\n",
    "|------------------|\n",
    "|Jupyter Lab|\n",
    "|Spyder|\n",
    "|Google Colab|"
   ]
  },
  {
   "cell_type": "markdown",
   "id": "d9e377a3-c980-457f-bb11-7fbd4beb5716",
   "metadata": {},
   "source": [
    "Below are a few examples of evaluating arithmetic expressions in Python"
   ]
  },
  {
   "cell_type": "code",
   "execution_count": 4,
   "id": "3b2f2648-438c-4483-aace-f9d0e8d1b238",
   "metadata": {
    "tags": []
   },
   "outputs": [
    {
     "data": {
      "text/plain": [
       "17"
      ]
     },
     "execution_count": 4,
     "metadata": {},
     "output_type": "execute_result"
    }
   ],
   "source": [
    "(3*4)+5"
   ]
  },
  {
   "cell_type": "code",
   "execution_count": 5,
   "id": "08573a59-7380-4c35-ad94-96fd0ab86edc",
   "metadata": {
    "tags": []
   },
   "outputs": [
    {
     "name": "stdout",
     "output_type": "stream",
     "text": [
      "3.3333333333333335\n"
     ]
    }
   ],
   "source": [
    "# This will convert 200 minutes into hours by dividing it by 60\n",
    "a = 200\n",
    "b = 60\n",
    "\n",
    "c = a/b\n",
    "print(c)"
   ]
  },
  {
   "cell_type": "markdown",
   "id": "a4fdfc03-9009-4335-8857-07a7fc4bda64",
   "metadata": {},
   "source": [
    "## Author\n",
    "Romain Alexandre Bagnol"
   ]
  },
  {
   "cell_type": "code",
   "execution_count": null,
   "id": "3e915567-1c75-4944-81df-233a3d2ebb7e",
   "metadata": {},
   "outputs": [],
   "source": []
  }
 ],
 "metadata": {
  "kernelspec": {
   "display_name": "Python",
   "language": "python",
   "name": "conda-env-python-py"
  },
  "language_info": {
   "codemirror_mode": {
    "name": "ipython",
    "version": 3
   },
   "file_extension": ".py",
   "mimetype": "text/x-python",
   "name": "python",
   "nbconvert_exporter": "python",
   "pygments_lexer": "ipython3",
   "version": "3.7.12"
  }
 },
 "nbformat": 4,
 "nbformat_minor": 5
}
